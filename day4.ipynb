{
 "cells": [
  {
   "cell_type": "code",
   "execution_count": 3,
   "metadata": {},
   "outputs": [],
   "source": [
    "def sequential_check(astr):\n",
    "    curr = astr[0]\n",
    "    for x in astr[1:]:\n",
    "        if x == curr:\n",
    "            return True\n",
    "        curr = x\n",
    "    return False"
   ]
  },
  {
   "cell_type": "code",
   "execution_count": 6,
   "metadata": {},
   "outputs": [],
   "source": [
    "def ascending_check(astr):\n",
    "    curr = int(astr[0])\n",
    "    for x in astr[1:]:\n",
    "        y = int(x)\n",
    "        if y < curr:\n",
    "            return False\n",
    "        curr = y\n",
    "    return True"
   ]
  },
  {
   "cell_type": "code",
   "execution_count": 12,
   "metadata": {},
   "outputs": [
    {
     "name": "stdout",
     "output_type": "stream",
     "text": [
      "2050\n"
     ]
    }
   ],
   "source": [
    "cnt = 0\n",
    "for i in range(128392, 643281):\n",
    "    j = str(i)\n",
    "    if sequential_check(j) and ascending_check(j):\n",
    "        cnt += 1\n",
    "print(cnt)"
   ]
  },
  {
   "cell_type": "code",
   "execution_count": 20,
   "metadata": {},
   "outputs": [],
   "source": [
    "def sequential_check_2(astr):\n",
    "    curr = astr[0]\n",
    "    counted = [0,0,0,0,0,0]\n",
    "    counted_index = 0\n",
    "    for x in astr[1:]:\n",
    "        if x == curr:\n",
    "            counted[counted_index] += 1\n",
    "        else:\n",
    "            counted_index += 1\n",
    "        curr = x\n",
    "    if 1 in counted:\n",
    "        return True\n",
    "    else:\n",
    "        return False"
   ]
  },
  {
   "cell_type": "code",
   "execution_count": 21,
   "metadata": {},
   "outputs": [
    {
     "name": "stdout",
     "output_type": "stream",
     "text": [
      "1390\n"
     ]
    }
   ],
   "source": [
    "cnt = 0\n",
    "for i in range(128392, 643281):\n",
    "    j = str(i)\n",
    "    if sequential_check_2(j) and ascending_check(j):\n",
    "        cnt += 1\n",
    "print(cnt)"
   ]
  },
  {
   "cell_type": "code",
   "execution_count": null,
   "metadata": {},
   "outputs": [],
   "source": []
  }
 ],
 "metadata": {
  "kernelspec": {
   "display_name": "Python 3",
   "language": "python",
   "name": "python3"
  },
  "language_info": {
   "codemirror_mode": {
    "name": "ipython",
    "version": 3
   },
   "file_extension": ".py",
   "mimetype": "text/x-python",
   "name": "python",
   "nbconvert_exporter": "python",
   "pygments_lexer": "ipython3",
   "version": "3.7.3"
  }
 },
 "nbformat": 4,
 "nbformat_minor": 2
}
