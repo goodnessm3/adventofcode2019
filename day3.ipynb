{
 "cells": [
  {
   "cell_type": "code",
   "execution_count": 1,
   "metadata": {},
   "outputs": [],
   "source": [
    "from collections import namedtuple"
   ]
  },
  {
   "cell_type": "code",
   "execution_count": 206,
   "metadata": {},
   "outputs": [],
   "source": [
    "line = namedtuple(\"line\", (\"start\", \"end\"))"
   ]
  },
  {
   "cell_type": "code",
   "execution_count": 85,
   "metadata": {},
   "outputs": [],
   "source": [
    "r = line(point(1,1),point(4,1))\n",
    "s = line(point(2,0),point(2,2))\n",
    "t = line(point(2,3),point(4,3))\n",
    "u = line(point(3,0),point(3,5))"
   ]
  },
  {
   "cell_type": "code",
   "execution_count": 211,
   "metadata": {},
   "outputs": [],
   "source": [
    "class point:\n",
    "    \n",
    "    '''an x,y tuple that can be added or subtracted coordinate-wise'''\n",
    "    \n",
    "    def __init__(self, x, y):\n",
    "        \n",
    "        self.x = x\n",
    "        self.y = y\n",
    "        \n",
    "    def __add__(self, q):\n",
    "        \n",
    "        return point(self.x+q.x, self.y+q.y)\n",
    "    \n",
    "    def __sub__(self, q):\n",
    "        \n",
    "        return point(self.x-q.x, self.y-q.y)\n",
    "    \n",
    "    def __repr__(self):\n",
    "        \n",
    "        return f\"point ({self.x}, {self.y})\"\n",
    "    \n",
    "    def manhattan(self):\n",
    "        \n",
    "        return self.x + self.y"
   ]
  },
  {
   "cell_type": "code",
   "execution_count": 36,
   "metadata": {},
   "outputs": [],
   "source": [
    "def is_between(x, a, b):\n",
    "    if a > x > b or a < x < b:\n",
    "        return True\n",
    "    else:\n",
    "        return False\n",
    "    \n",
    "def intersect_check_half(line1, line2):\n",
    "    if is_between(line2.start.x, line1.start.x, line1.end.x):\n",
    "        if is_between(line1.start.y, line2.start.y, line2.end.y):\n",
    "            return True\n",
    "    return False\n",
    "\n",
    "def intersect_check(line1, line2):\n",
    "    \n",
    "    '''check in both directions to see whether lines cross'''\n",
    "    \n",
    "    if intersect_check_half(line1, line2) or intersect_check_half(line2, line1):\n",
    "        return True\n",
    "    else:\n",
    "        return False"
   ]
  },
  {
   "cell_type": "code",
   "execution_count": 207,
   "metadata": {},
   "outputs": [
    {
     "data": {
      "text/plain": [
       "False"
      ]
     },
     "execution_count": 207,
     "metadata": {},
     "output_type": "execute_result"
    }
   ],
   "source": [
    "intersect_check(u,s)"
   ]
  },
  {
   "cell_type": "code",
   "execution_count": 105,
   "metadata": {},
   "outputs": [],
   "source": [
    "def get_const_axis(line):\n",
    "    \n",
    "    '''we are dealing with lines that are only parallel to either x or y,\n",
    "    this function finds the axis that does not change'''\n",
    "    \n",
    "    delta = line.end - line.start\n",
    "    if delta.x == 0:\n",
    "        return point(line.start.x, 0)\n",
    "    elif delta.y == 0:\n",
    "        return point(0, line.start.y)"
   ]
  },
  {
   "cell_type": "code",
   "execution_count": 103,
   "metadata": {},
   "outputs": [],
   "source": [
    "def get_intersect(line1, line2):\n",
    "    \n",
    "    '''because one of x or y never changes, the non-changing axis\n",
    "    from each line gives us the intersection coordinates'''\n",
    "    \n",
    "    if intersect_check(line1, line2):    \n",
    "        return get_const_axis(line1) + get_const_axis(line2)\n",
    "    "
   ]
  },
  {
   "cell_type": "code",
   "execution_count": 208,
   "metadata": {},
   "outputs": [
    {
     "data": {
      "text/plain": [
       "point (2, 0)"
      ]
     },
     "execution_count": 208,
     "metadata": {},
     "output_type": "execute_result"
    }
   ],
   "source": [
    "get_const_axis(s)"
   ]
  },
  {
   "cell_type": "code",
   "execution_count": 209,
   "metadata": {},
   "outputs": [],
   "source": [
    "get_intersect(s,t)"
   ]
  },
  {
   "cell_type": "code",
   "execution_count": 210,
   "metadata": {},
   "outputs": [
    {
     "data": {
      "text/plain": [
       "point (2, 1)"
      ]
     },
     "execution_count": 210,
     "metadata": {},
     "output_type": "execute_result"
    }
   ],
   "source": [
    "get_intersect(r,s)"
   ]
  },
  {
   "cell_type": "code",
   "execution_count": 119,
   "metadata": {},
   "outputs": [
    {
     "data": {
      "text/plain": [
       "2"
      ]
     },
     "execution_count": 119,
     "metadata": {},
     "output_type": "execute_result"
    }
   ],
   "source": [
    "la = line(point(0,0), point(5,0))\n",
    "lb = line(point(2,1), point(2,-1))\n",
    "get_intersect(la, lb).manhattan()"
   ]
  },
  {
   "cell_type": "code",
   "execution_count": 120,
   "metadata": {},
   "outputs": [],
   "source": [
    "# pasted input strings\n",
    "\n",
    "inp1 = \"R1002,U407,R530,D268,R516,U937,L74,U838,R784,D684,L912,U746,R189,U192,R868,D345,L972,D492,R942,U631,L559,U634,L80,U513,L746,D997,L348,D160,L655,U949,R717,U396,R549,D167,R591,U469,L22,U977,L167,D856,L320,D920,L396,U490,L895,U180,R661,D828,R864,U189,R307,U402,R409,U445,L101,D418,R812,U419,R319,U75,L813,D46,L491,U39,R737,U11,R177,U311,L278,U254,R475,U166,L515,D105,L694,D437,L298,U169,L613,D234,L999,U380,L711,D758,R932,D27,L951,D529,L935,D189,R816,D176,R98,D320,R965,D333,L367,U622,R18,U83,R275,D205,L960,U177,R750,D466,R442,U797,R355,D717,L569,D578,R384,U863,R541,U405,R527,D658,L514,U168,L64,D918,R947,D11,L189,D875,R599,U201,L165,U772,L679,U566,L195,U660,R896,D622,R678,U390,L984,D900,R889,D714,R557,U848,L176,U541,R518,D699,L904,D23,L55,D886,L206,D621,L48,D197,R502,D259,L779,D72,L183,U747,L424,U452,L603,U561,L430,D942,R515,D378,R962,U508,R230,D650,R804,D453,R899,D813,R484,U798,R456,D231,L316,U117,R630,D436,L985,D283,L393,D370,R158,U957,L914,D455,L875,U536,R889,U400,R347,U712,R487,D455,R428,U590,R127,D132,L202,U377,R138,U654,L760,D46,R213,D225,L817,U455,L612,U543,L525,U979,R591,D940,R446,U786,R750,U244,R325,U928,L44,U551,L955,U221,L986,U516,L916,D242,L280,D71,R80,U849,L271,U626,R737,D646,R82,U120,R646,U569,R463,D94,R570,U456,L548,D687,R221,D759,L606,D818,L859,U218,R682,U299,R818,D966,R407,U605,L859,D378,L53,D722,L216,D221,R639,U485,L865,D620,R99,D988,R944,D323,R540,U372,L470,U106,L804,D92,L177,U518,R277,U670,R451,D194,L695,D502,L601,U596,R374,U682,L19,D54,L156\"\n",
    "inp2 = \"L1003,U22,R594,D241,L215,D906,R733,D831,L556,U421,L780,D242,R183,U311,R46,D52,R124,D950,L18,U985,R999,D528,R850,U575,L138,D62,L603,U467,R641,U155,L165,D63,L489,U4,R635,D460,L446,D938,R983,U494,L491,D433,L722,U427,L469,U832,L712,U798,R906,U804,R646,U721,R578,D194,L726,U803,L985,D934,R943,U198,R726,U341,R583,U998,L992,D401,L132,D681,L363,U949,L814,D977,R840,D145,L177,D291,L652,D396,R330,D951,L363,U813,R847,D374,R961,D912,R516,D178,R495,U49,R340,D395,R632,D991,R487,D263,R320,D948,R456,D142,L783,D888,R589,D999,L159,U686,R402,D586,L425,U946,R56,D979,L534,U313,R657,D401,L666,D504,R712,D232,L557,D620,R193,D670,L134,D975,R837,D901,R813,U459,L499,U450,L87,U84,L582,U310,R795,D280,L730,D458,L727,D196,R95,U210,R498,U760,R778,U325,R715,U479,R275,U557,L450,D196,L60,U115,R475,D265,L611,D372,R60,U935,L717,U809,L344,D854,L386,U473,R72,U968,L816,U900,R866,U172,R965,U383,R576,D774,R753,U788,L781,D237,L401,U786,R873,U331,R609,D232,L603,U685,L494,U177,L982,D173,L673,U772,L7,U7,R517,U573,R212,D413,L124,D810,L223,U137,L576,U95,R128,U896,L91,U932,L875,U917,R106,U911,L208,D507,L778,D59,L71,D352,R988,U708,L58,D429,L122,U771,L713,D801,R188,U661,R752,D374,R312,D848,L504,D540,R334,U517,R343,D739,L727,D552,L555,U580,L857,U474,R145,U188,L789,U698,R735,U131,L494,U162,L27,D849,L140,D849,R615,U798,R160,U492,R884,U521,L542,D729,R498,D853,R918,U565,R65,U32,L607,U552,L38,D822,L77,U490,L190,D93,L104,U268,R702,D112,L917,D876,L631,D139,L989,U810,R329,U253,L498,D767,L550,U666,L549,U616,R376\""
   ]
  },
  {
   "cell_type": "code",
   "execution_count": 123,
   "metadata": {},
   "outputs": [],
   "source": [
    "segments1 = []\n",
    "segments2 = []\n",
    "\n",
    "for src, dest in zip((inp1.split(\",\"), inp2.split(\",\")), (segments1, segments2)):\n",
    "    start = point(0, 0)\n",
    "    for x in src:\n",
    "        direction = x[0]\n",
    "        length = int(x[1:])\n",
    "        if direction == \"R\":\n",
    "            delta = point(length, 0)\n",
    "        elif direction == \"L\":\n",
    "            delta = point(-length, 0)\n",
    "        elif direction == \"U\":\n",
    "            delta = point(0, length)\n",
    "        elif direction == \"D\":\n",
    "            delta = point(0, -length)\n",
    "        end = start + delta\n",
    "        dest.append(line(start, end))\n",
    "        start = end\n",
    "        "
   ]
  },
  {
   "cell_type": "code",
   "execution_count": 127,
   "metadata": {},
   "outputs": [],
   "source": [
    "intersections = []\n",
    "\n",
    "for i in segments1:\n",
    "    for j in segments2:\n",
    "        q = get_intersect(i, j)\n",
    "        if q:\n",
    "            intersections.append(q)"
   ]
  },
  {
   "cell_type": "code",
   "execution_count": 131,
   "metadata": {},
   "outputs": [
    {
     "data": {
      "text/plain": [
       "119"
      ]
     },
     "execution_count": 131,
     "metadata": {},
     "output_type": "execute_result"
    }
   ],
   "source": [
    "len(intersections)"
   ]
  },
  {
   "cell_type": "code",
   "execution_count": 129,
   "metadata": {},
   "outputs": [],
   "source": [
    "intersections.sort(key=lambda x:x.manhattan())"
   ]
  },
  {
   "cell_type": "code",
   "execution_count": 130,
   "metadata": {},
   "outputs": [
    {
     "data": {
      "text/plain": [
       "[point (245, 0),\n",
       " point (414, 0),\n",
       " point (667, 0),\n",
       " point (1002, 68),\n",
       " point (1002, 312),\n",
       " point (1442, 407),\n",
       " point (1442, 420),\n",
       " point (2034, 42),\n",
       " point (1099, 1010),\n",
       " point (-250, 2389),\n",
       " point (2034, 139),\n",
       " point (1099, 1116),\n",
       " point (1099, 1141),\n",
       " point (2649, -398),\n",
       " point (2282, 42),\n",
       " point (2739, -378),\n",
       " point (2556, -166),\n",
       " point (1099, 1310),\n",
       " point (1529, 895),\n",
       " point (165, 2263),\n",
       " point (528, 1930),\n",
       " point (528, 1952),\n",
       " point (1784, 801),\n",
       " point (2282, 349),\n",
       " point (1856, 801),\n",
       " point (4444, -1771),\n",
       " point (2807, -100),\n",
       " point (2556, 161),\n",
       " point (2048, 687),\n",
       " point (2576, 161),\n",
       " point (2048, 696),\n",
       " point (2048, 714),\n",
       " point (659, 2121),\n",
       " point (660, 2141),\n",
       " point (2132, 687),\n",
       " point (2132, 696),\n",
       " point (2132, 714),\n",
       " point (3682, -814),\n",
       " point (660, 2221),\n",
       " point (2543, 349),\n",
       " point (660, 2263),\n",
       " point (3033, -100),\n",
       " point (2048, 895),\n",
       " point (3033, -67),\n",
       " point (2353, 617),\n",
       " point (2291, 696),\n",
       " point (2048, 945),\n",
       " point (2291, 714),\n",
       " point (3376, -326),\n",
       " point (1533, 1524),\n",
       " point (4543, -1464),\n",
       " point (1974, 1107),\n",
       " point (3200, -100),\n",
       " point (2291, 826),\n",
       " point (3682, -553),\n",
       " point (3200, -67),\n",
       " point (2543, 617),\n",
       " point (3033, 130),\n",
       " point (4568, -1401),\n",
       " point (2620, 550),\n",
       " point (1951, 1230),\n",
       " point (2291, 895),\n",
       " point (2806, 384),\n",
       " point (4568, -1366),\n",
       " point (2658, 550),\n",
       " point (2620, 617),\n",
       " point (2806, 431),\n",
       " point (1846, 1416),\n",
       " point (2658, 617),\n",
       " point (3376, -100),\n",
       " point (1951, 1331),\n",
       " point (3518, -214),\n",
       " point (3376, -67),\n",
       " point (1931, 1416),\n",
       " point (3682, -333),\n",
       " point (2139, 1230),\n",
       " point (1974, 1416),\n",
       " point (873, 2522),\n",
       " point (3610, -214),\n",
       " point (2291, 1107),\n",
       " point (2807, 617),\n",
       " point (3064, 361),\n",
       " point (3064, 384),\n",
       " point (1951, 1503),\n",
       " point (4509, -1051),\n",
       " point (2139, 1331),\n",
       " point (4543, -1051),\n",
       " point (3064, 431),\n",
       " point (2725, 826),\n",
       " point (2326, 1230),\n",
       " point (2890, 703),\n",
       " point (2890, 714),\n",
       " point (2139, 1503),\n",
       " point (2326, 1331),\n",
       " point (2844, 818),\n",
       " point (2725, 975),\n",
       " point (2291, 1416),\n",
       " point (1974, 1746),\n",
       " point (2139, 1590),\n",
       " point (1228, 2522),\n",
       " point (2046, 1746),\n",
       " point (2664, 1230),\n",
       " point (1652, 2253),\n",
       " point (2705, 1230),\n",
       " point (3203, 751),\n",
       " point (2664, 1331),\n",
       " point (1488, 2522),\n",
       " point (2705, 1331),\n",
       " point (1584, 2522),\n",
       " point (2786, 1331),\n",
       " point (2844, 1331),\n",
       " point (2441, 1746),\n",
       " point (2664, 1590),\n",
       " point (2705, 1590),\n",
       " point (2664, 1684),\n",
       " point (2758, 1606),\n",
       " point (2758, 1614),\n",
       " point (2873, 1606),\n",
       " point (2873, 1614)]"
      ]
     },
     "execution_count": 130,
     "metadata": {},
     "output_type": "execute_result"
    }
   ],
   "source": [
    "intersections"
   ]
  },
  {
   "cell_type": "code",
   "execution_count": 149,
   "metadata": {},
   "outputs": [],
   "source": [
    "def is_point_on_line(point, line):\n",
    "    \n",
    "    if point.y == line.start.y:\n",
    "        if is_between(point.x, line.start.x, line.end.x):\n",
    "            return True\n",
    "    if point.x == line.start.x:\n",
    "        if is_between(point.y, line.start.y, line.end.y):\n",
    "            return True\n",
    "    \n",
    "    return False"
   ]
  },
  {
   "cell_type": "code",
   "execution_count": 136,
   "metadata": {},
   "outputs": [
    {
     "data": {
      "text/plain": [
       "(line(start=point (1, 1), end=point (4, 1)),\n",
       " line(start=point (2, 0), end=point (2, 2)),\n",
       " line(start=point (2, 3), end=point (4, 3)),\n",
       " line(start=point (3, 0), end=point (3, 5)))"
      ]
     },
     "execution_count": 136,
     "metadata": {},
     "output_type": "execute_result"
    }
   ],
   "source": [
    "r, s, t, u"
   ]
  },
  {
   "cell_type": "code",
   "execution_count": 154,
   "metadata": {},
   "outputs": [
    {
     "data": {
      "text/plain": [
       "True"
      ]
     },
     "execution_count": 154,
     "metadata": {},
     "output_type": "execute_result"
    }
   ],
   "source": [
    "is_point_on_line(point(2,1),r)"
   ]
  },
  {
   "cell_type": "code",
   "execution_count": 202,
   "metadata": {},
   "outputs": [],
   "source": [
    "step_intersections_1 = []\n",
    "cumulative_steps = 0\n",
    "for i in segments1:\n",
    "    for q in intersections:\n",
    "        if is_point_on_line(q, i):\n",
    "            step_dist = cumulative_steps + (q-i.start).manhattan()\n",
    "            step_intersections_1.append((q, step_dist))\n",
    "    cumulative_steps += abs((i.start-i.end).manhattan())"
   ]
  },
  {
   "cell_type": "code",
   "execution_count": 203,
   "metadata": {},
   "outputs": [],
   "source": [
    "step_intersections_2 = []\n",
    "cumulative_steps = 0\n",
    "for i in segments2:\n",
    "    for q in intersections:\n",
    "        if is_point_on_line(q, i):\n",
    "            step_dist = cumulative_steps + (q-i.start).manhattan()\n",
    "            step_intersections_2.append((q, step_dist))\n",
    "    cumulative_steps += abs((i.start-i.end).manhattan())"
   ]
  },
  {
   "cell_type": "code",
   "execution_count": 204,
   "metadata": {},
   "outputs": [],
   "source": [
    "from collections import defaultdict\n",
    "\n",
    "point_values = defaultdict(lambda: 0)\n",
    "for ls in step_intersections_1, step_intersections_2:\n",
    "    for x in ls:\n",
    "        pnt, score = x\n",
    "        point_values[pnt] += score\n"
   ]
  },
  {
   "cell_type": "code",
   "execution_count": 188,
   "metadata": {},
   "outputs": [
    {
     "data": {
      "text/plain": [
       "119"
      ]
     },
     "execution_count": 188,
     "metadata": {},
     "output_type": "execute_result"
    }
   ],
   "source": [
    "len(step_intersections_2)"
   ]
  },
  {
   "cell_type": "code",
   "execution_count": 189,
   "metadata": {},
   "outputs": [
    {
     "data": {
      "text/plain": [
       "119"
      ]
     },
     "execution_count": 189,
     "metadata": {},
     "output_type": "execute_result"
    }
   ],
   "source": [
    "len(point_values)"
   ]
  },
  {
   "cell_type": "code",
   "execution_count": 205,
   "metadata": {},
   "outputs": [
    {
     "data": {
      "text/plain": [
       "48262"
      ]
     },
     "execution_count": 205,
     "metadata": {},
     "output_type": "execute_result"
    }
   ],
   "source": [
    "min(point_values.values())"
   ]
  },
  {
   "cell_type": "code",
   "execution_count": null,
   "metadata": {},
   "outputs": [],
   "source": []
  }
 ],
 "metadata": {
  "kernelspec": {
   "display_name": "Python 3",
   "language": "python",
   "name": "python3"
  },
  "language_info": {
   "codemirror_mode": {
    "name": "ipython",
    "version": 3
   },
   "file_extension": ".py",
   "mimetype": "text/x-python",
   "name": "python",
   "nbconvert_exporter": "python",
   "pygments_lexer": "ipython3",
   "version": "3.7.3"
  }
 },
 "nbformat": 4,
 "nbformat_minor": 2
}
