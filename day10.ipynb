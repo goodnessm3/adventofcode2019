{
 "cells": [
  {
   "cell_type": "code",
   "execution_count": 11,
   "metadata": {},
   "outputs": [],
   "source": [
    "class Point:\n",
    "    \n",
    "    def __init__(self, x, y):\n",
    "        \n",
    "        self.x = x\n",
    "        self.y = y\n",
    "        \n",
    "    def radius(self):\n",
    "        \n",
    "        \"\"\"actually returns the r squared but still works as a distance sorting key\"\"\"\n",
    "        \n",
    "        return (self.x**2 + self.y**2)\n",
    "        \n",
    "    def __repr__(self):\n",
    "        \n",
    "        return f\"Point ({self.x}, {self.y})\"\n",
    "        \n",
    "def subtract_points(point1, point2):\n",
    "        \n",
    "    new = Point(point1.x - point2.x, point1.y - point2.y)\n",
    "    return new\n",
    "\n",
    "def get_collinear(point1, point2):\n",
    "\n",
    "    #print(f\"comparing points {point1} {point2}\")\n",
    "     \n",
    "    if not get_quadrant(point1) == get_quadrant(point2):\n",
    "        return False\n",
    "    if point2.x == 0 and point2.y == 0:\n",
    "        return True  # avoid divide by zero, everything is collinear with the origin\n",
    "    if (point1.x == 0 and point2.x == 0) or (point1.y == 0 and point2.y == 0):\n",
    "        return True  # prevent divide-by-zero error, it's on the axis\n",
    "    if point2.x == 0 or point2.y == 0:\n",
    "        return False\n",
    "    if point1.x/point2.x == point1.y/point2.y:\n",
    "        return True\n",
    "    else:\n",
    "        return False\n",
    "        "
   ]
  },
  {
   "cell_type": "code",
   "execution_count": 10,
   "metadata": {},
   "outputs": [],
   "source": [
    "def get_quadrant(point):\n",
    "    x = point.x\n",
    "    y = point.y\n",
    "    if x >= 0 and y >= 0:\n",
    "        return 1\n",
    "    elif x >=0 and y < 0:\n",
    "        return 2\n",
    "    elif x < 0 and y < 0:\n",
    "        return 3\n",
    "    elif x < 0 and y >= 0:\n",
    "        return 4"
   ]
  },
  {
   "cell_type": "code",
   "execution_count": 12,
   "metadata": {},
   "outputs": [],
   "source": [
    "points = []\n",
    "\n",
    "with open(\"day10_input.txt\",\"r\") as f:\n",
    "    x = 0\n",
    "    y = 0\n",
    "    for line in f.readlines():\n",
    "        l = line.rstrip(\"\\r\\n\")\n",
    "        for char in line:\n",
    "            if char == \"#\":\n",
    "                points.append(Point(x, y))\n",
    "            x += 1\n",
    "        x = 0\n",
    "        y += 1"
   ]
  },
  {
   "cell_type": "code",
   "execution_count": 8,
   "metadata": {},
   "outputs": [],
   "source": [
    "a = Point(0,0)\n",
    "b = Point(-1,-1)\n",
    "c = Point(2,2)"
   ]
  },
  {
   "cell_type": "code",
   "execution_count": null,
   "metadata": {},
   "outputs": [],
   "source": []
  },
  {
   "cell_type": "code",
   "execution_count": 13,
   "metadata": {},
   "outputs": [],
   "source": [
    "def count_visible(point):\n",
    "    \n",
    "    seen = set()\n",
    "    relatives = [subtract_points(j, point) for j in points]  # make a new grid with this point at the origin \n",
    "    relatives.sort(key=lambda x: x.radius())  # list of points from closest to furthest from origin\n",
    "    #print(relatives)\n",
    "    for x in relatives[1:]:  # avoid the first point, which will always be the origin\n",
    "        add = True\n",
    "        for y in seen:\n",
    "            if get_collinear(x, y):\n",
    "                add = False  # we don't want it because it's obscured by another point\n",
    "        if add:\n",
    "            seen.add(x)\n",
    "    \n",
    "    return len(seen)\n",
    "    \n",
    "                \n",
    "                \n",
    "    "
   ]
  },
  {
   "cell_type": "code",
   "execution_count": 14,
   "metadata": {},
   "outputs": [],
   "source": [
    "ans = []\n",
    "\n",
    "for p in points:\n",
    "    ans.append(count_visible(p))"
   ]
  },
  {
   "cell_type": "code",
   "execution_count": 15,
   "metadata": {},
   "outputs": [
    {
     "data": {
      "text/plain": [
       "260"
      ]
     },
     "execution_count": 15,
     "metadata": {},
     "output_type": "execute_result"
    }
   ],
   "source": [
    "max(ans)"
   ]
  },
  {
   "cell_type": "code",
   "execution_count": null,
   "metadata": {},
   "outputs": [],
   "source": []
  },
  {
   "cell_type": "code",
   "execution_count": null,
   "metadata": {},
   "outputs": [],
   "source": []
  },
  {
   "cell_type": "code",
   "execution_count": null,
   "metadata": {},
   "outputs": [],
   "source": []
  },
  {
   "cell_type": "code",
   "execution_count": null,
   "metadata": {},
   "outputs": [],
   "source": []
  }
 ],
 "metadata": {
  "kernelspec": {
   "display_name": "Python 3",
   "language": "python",
   "name": "python3"
  },
  "language_info": {
   "codemirror_mode": {
    "name": "ipython",
    "version": 3
   },
   "file_extension": ".py",
   "mimetype": "text/x-python",
   "name": "python",
   "nbconvert_exporter": "python",
   "pygments_lexer": "ipython3",
   "version": "3.6.5"
  }
 },
 "nbformat": 4,
 "nbformat_minor": 2
}
