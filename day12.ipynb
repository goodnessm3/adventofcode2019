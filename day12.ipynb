{
 "cells": [
  {
   "cell_type": "code",
   "execution_count": 9,
   "metadata": {},
   "outputs": [],
   "source": [
    "inp = '''<x=-15, y=1, z=4>\n",
    "<x=1, y=-10, z=-8>\n",
    "<x=-5, y=4, z=9>\n",
    "<x=4, y=6, z=-2>'''\n",
    "\n",
    "# first apply gravity to update velocities\n",
    "# then apply velocities to update positions\n",
    "\n",
    "class Point:\n",
    "    \n",
    "    def __init__(self, x, y, z):\n",
    "              \n",
    "        # postional coords\n",
    "        self.x = x\n",
    "        self.y = y\n",
    "        self.z = z\n",
    "        \n",
    "        # velocities, starts at zero\n",
    "        self.dx = 0\n",
    "        self.dy = 0\n",
    "        self.dz = 0\n",
    "        \n",
    "    def __repr__(self):\n",
    "        \n",
    "        return(f\"Position {self.x}, {self.y}, {self.z}, velocity {self.dx}, {self.dy}, {self.dz}\")\n",
    "        \n",
    "    def apply_velocity(self):\n",
    "        \n",
    "        self.x += self.dx\n",
    "        self.y += self.dy\n",
    "        self.z += self.dz\n",
    "        \n",
    "    def get_energy(self):\n",
    "        \n",
    "        pot = abs(self.x) + abs(self.y) + abs(self.z)\n",
    "        kin = abs(self.dx) + abs(self.dy) + abs(self.dz)\n",
    "        return pot * kin\n",
    "\n",
    "\n",
    "def apply_gravity(p1, p2):\n",
    "    \n",
    "        # DUMB code but simple\n",
    "    \n",
    "        if p1.x > p2.x:\n",
    "            p1.dx -= 1\n",
    "            p2.dx += 1\n",
    "        elif p1.x < p2.x:\n",
    "            p1.dx += 1\n",
    "            p2.dx -= 1\n",
    "        elif p1.x == p2.x:\n",
    "            pass  # don't change values\n",
    "        if p1.y > p2.y:\n",
    "            p1.dy -= 1\n",
    "            p2.dy += 1\n",
    "        elif p1.y < p2.y:\n",
    "            p1.dy += 1\n",
    "            p2.dy -= 1\n",
    "        elif p1.y == p2.y:\n",
    "            pass  # don't change values\n",
    "        if p1.z > p2.z:\n",
    "            p1.dz -= 1\n",
    "            p2.dz += 1\n",
    "        elif p1.z < p2.z:\n",
    "            p1.dz += 1\n",
    "            p2.dz -= 1\n",
    "        elif p1.z == p2.z:\n",
    "            pass  # don't change values\n",
    "        "
   ]
  },
  {
   "cell_type": "code",
   "execution_count": 85,
   "metadata": {},
   "outputs": [
    {
     "data": {
      "text/plain": [
       "121315"
      ]
     },
     "execution_count": 85,
     "metadata": {},
     "output_type": "execute_result"
    }
   ],
   "source": [
    "'''<x=-15, y=1, z=4>\n",
    "<x=1, y=-10, z=-8>\n",
    "<x=-5, y=4, z=9>\n",
    "<x=4, y=6, z=-2>'''\n",
    "locations = {\"x\":[], \"y\":[], \"z\":[]}  #store locations by axis to look for cycles\n",
    "\n",
    "from itertools import combinations  # to get all pairs\n",
    "\n",
    "I = Point(-15, 1, 4)\n",
    "E = Point(1, -10, -8)\n",
    "G = Point(-5, 4, 9)\n",
    "C = Point(4, 6, -2)\n",
    "\n",
    "moons = [I, E, G, C]\n",
    "\n",
    "for step in range(1000000):   # generate a big list to look through and find repeat cycles\n",
    "    for x,y in combinations(moons, 2):\n",
    "        apply_gravity(x, y)\n",
    "    for x in moons:\n",
    "        x.apply_velocity()\n",
    "    for axis in (\"x\", \"y\", \"z\"):\n",
    "        myls = [getattr(q, axis) for q in(I, E, G, C)]\n",
    "        locations[axis].append(tuple(myls))\n",
    "        \n",
    "sum([x.get_energy() for x in moons])"
   ]
  },
  {
   "cell_type": "code",
   "execution_count": null,
   "metadata": {},
   "outputs": [],
   "source": [
    "# to get the number of steps to return to a previous state, find the step\n",
    "# number for each axis independently and look for the lowest common multiple"
   ]
  },
  {
   "cell_type": "code",
   "execution_count": 100,
   "metadata": {},
   "outputs": [],
   "source": [
    "from collections import defaultdict\n"
   ]
  },
  {
   "cell_type": "code",
   "execution_count": 147,
   "metadata": {},
   "outputs": [],
   "source": [
    "def find_repeat_length(als):\n",
    "    \n",
    "    x = 0\n",
    "    y = 1\n",
    "    span = 1\n",
    "    \n",
    "    while True:\n",
    "        a = als[x]\n",
    "        b = als[y]\n",
    "        if not a == b:\n",
    "            span += 1\n",
    "            y = span\n",
    "            x = 0  # reset\n",
    "        else:\n",
    "            x += 1\n",
    "            y += 1\n",
    "            if x == span: \n",
    "                return span\n",
    "            "
   ]
  },
  {
   "cell_type": "code",
   "execution_count": 150,
   "metadata": {},
   "outputs": [
    {
     "data": {
      "text/plain": [
       "4"
      ]
     },
     "execution_count": 150,
     "metadata": {},
     "output_type": "execute_result"
    }
   ],
   "source": [
    "find_repeat_length([1,2,3,4,1,2,3,4,1,2,3,4])"
   ]
  },
  {
   "cell_type": "code",
   "execution_count": 152,
   "metadata": {},
   "outputs": [
    {
     "name": "stdout",
     "output_type": "stream",
     "text": [
      "286332\n",
      "48118\n",
      "193052\n"
     ]
    }
   ],
   "source": [
    "print(find_repeat_length([x[0] for x in locations[\"x\"]]))\n",
    "print(find_repeat_length([x[0] for x in locations[\"y\"]]))\n",
    "print(find_repeat_length([x[0] for x in locations[\"z\"]]))"
   ]
  },
  {
   "cell_type": "code",
   "execution_count": 153,
   "metadata": {},
   "outputs": [
    {
     "name": "stdout",
     "output_type": "stream",
     "text": [
      "286332\n",
      "96236\n",
      "193052\n"
     ]
    }
   ],
   "source": [
    "def find_repeat(axis):\n",
    "    rpts = []\n",
    "    for q in range(4):\n",
    "        rpts.append(find_repeat_length([x[q] for x in locations[axis]]))\n",
    "    return lcm(lcm(rpts[0], rpts[1]), lcm(rpts[2], rpts[3]))\n",
    "\n",
    "print(find_repeat(\"x\"))\n",
    "print(find_repeat(\"y\"))\n",
    "print(find_repeat(\"z\"))"
   ]
  },
  {
   "cell_type": "code",
   "execution_count": 134,
   "metadata": {},
   "outputs": [],
   "source": [
    "from math import gcd\n",
    "\n",
    "def lcm(a, b):  # from stackoverflow lmao\n",
    "    \n",
    "    return abs(a*b) // gcd(a, b)"
   ]
  },
  {
   "cell_type": "code",
   "execution_count": 154,
   "metadata": {},
   "outputs": [
    {
     "data": {
      "text/plain": [
       "6888861588"
      ]
     },
     "execution_count": 154,
     "metadata": {},
     "output_type": "execute_result"
    }
   ],
   "source": [
    "lcm(286332,96236)"
   ]
  },
  {
   "cell_type": "code",
   "execution_count": 155,
   "metadata": {},
   "outputs": [
    {
     "data": {
      "text/plain": [
       "332477126821644"
      ]
     },
     "execution_count": 155,
     "metadata": {},
     "output_type": "execute_result"
    }
   ],
   "source": [
    "lcm(6888861588,193052)  # lcm is commutative I guess"
   ]
  }
 ],
 "metadata": {
  "kernelspec": {
   "display_name": "Python 3",
   "language": "python",
   "name": "python3"
  },
  "language_info": {
   "codemirror_mode": {
    "name": "ipython",
    "version": 3
   },
   "file_extension": ".py",
   "mimetype": "text/x-python",
   "name": "python",
   "nbconvert_exporter": "python",
   "pygments_lexer": "ipython3",
   "version": "3.7.3"
  }
 },
 "nbformat": 4,
 "nbformat_minor": 2
}
